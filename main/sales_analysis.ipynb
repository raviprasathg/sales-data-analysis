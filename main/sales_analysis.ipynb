# Import necessary libraries
import pandas as pd
import matplotlib.pyplot as plt
import seaborn as sns

# Set style
sns.set(style="whitegrid")

# Load the dataset
#df = pd.read_csv("C:\Users\Raviprasath A\Documents\sales-analysis\sales_data.csv")

df = pd.read_csv(r"C:\Users\Raviprasath A\Documents\sales-analysis\sales_data.csv", encoding='ISO-8859-1')


# Preview the data
print(df.head())

# Basic info
print(df.info())

# Check for missing values
print(df.isnull().sum())

# Convert Date column to datetime (if exists)
df['ORDERDATE'] = pd.to_datetime(df['ORDERDATE'])

# Add Month and Year columns
df['Month'] = df['ORDERDATE'].dt.month
df['Year'] = df['ORDERDATE'].dt.year

# Total Sales per Month
monthly_sales = df.groupby(['Year', 'Month'])['SALES'].sum().reset_index()

# Plot monthly sales
plt.figure(figsize=(10,6))
sns.lineplot(data=monthly_sales, x='Month', y='SALES', hue='Year', marker='o')
plt.title("Monthly Sales Trend")
plt.ylabel("Total Sales")
plt.xlabel("Month")
plt.xticks(range(1,13))
plt.show()

# Top 10 Products
top_products = df.groupby('PRODUCTLINE')['SALES'].sum().sort_values(ascending=False).head(10)
top_products.plot(kind='bar', figsize=(10,5), title='Top 10 Products by Sales')
plt.ylabel("Sales")
plt.xlabel("Product")
plt.show()

# Sales by Region
region_sales = df.groupby('TERRITORY')['SALES'].sum().sort_values(ascending=False)
region_sales.plot(kind='pie', autopct='%1.1f%%', figsize=(7,7), title='Sales by Region')
plt.ylabel("")
plt.show()
